{
 "cells": [
  {
   "cell_type": "code",
   "execution_count": 21,
   "metadata": {},
   "outputs": [
    {
     "data": {
      "image/png": "[encoded data removed]",
      "text/plain": [
       "<matplotlib.figure.Figure at 0x7fe74f323a50>"
      ]
     },
     "metadata": {},
     "output_type": "display_data"
    },
    {
     "data": {
      "image/png": "[encoded data removed]",
      "text/plain": [
       "<matplotlib.figure.Figure at 0x7fe74f323a10>"
      ]
     },
     "metadata": {},
     "output_type": "display_data"
    }
   ],
   "source": [
    "import matplotlib.pyplot as plt\n",
    "import numpy as np\n",
    "\n",
    "\n",
    "\n",
    "spread = np.random.rand(50) * 100\n",
    "center = np.ones(25) * 40\n",
    "flier_high = np.random.rand(10) * 100 + 100\n",
    "flier_low = np.random.rand(10) * -100\n",
    "data = np.concatenate((spread, center, flier_high, flier_low), 0)\n",
    "\n",
    "plt.boxplot(data)\n",
    "\n",
    "spread = np.random.rand(50) * 100\n",
    "center = np.ones(25) * 40\n",
    "flier_high = np.random.rand(10) * 100 + 100\n",
    "flier_low = np.random.rand(10) * -100\n",
    "d2 = np.concatenate((spread, center, flier_high, flier_low), 0)\n",
    "data.shape = (-1, 1)\n",
    "d2.shape = (-1, 1)\n",
    "# data = concatenate( (data, d2), 1 )\n",
    "# Making a 2-D array only works if all the columns are the\n",
    "# same length.  If they are not, then use a list instead.\n",
    "# This is actually more efficient because boxplot converts\n",
    "# a 2-D array into a list of vectors internally anyway.\n",
    "data = [data, d2, d2[::2, 0]]\n",
    "# multiple box plots on one figure\n",
    "plt.figure()\n",
    "plt.boxplot(data)\n",
    "\n",
    "plt.show()"
   ]
  },
  {
   "cell_type": "code",
   "execution_count": 23,
   "metadata": {},
   "outputs": [
    {
     "data": {
      "text/plain": [
       "array([ 74.3332198 ,  61.11085412,  32.74488416,  37.88699773,\n",
       "        50.45081299,  46.49328883,  78.22574021,  79.71652684,\n",
       "        95.33343079,  38.65977225,  94.01564684,   9.91791206,\n",
       "        87.43739753,  18.40388911,  66.25460942,  28.12144519,\n",
       "        55.25621508,  45.50776225,   6.59656053,  79.40572471,\n",
       "        96.71139443,  21.77476984,  45.37397505,  27.78820722,\n",
       "        89.83016886,  71.84745512,  32.92808527,  45.70933742,\n",
       "        80.12199623,  42.35418961,  44.89967188,  30.86848007,\n",
       "        29.02483443,  63.61745954,  64.45725767,  93.07348711,\n",
       "        48.41800984,  91.86974716,  10.21030816,  29.35101829,\n",
       "        91.88832123,  93.17669953,   4.64396565,  68.119275  ,\n",
       "         7.26989555,  42.4476414 ,  90.51765236,  11.85972747,\n",
       "        19.63572542,   6.00124525])"
      ]
     },
     "execution_count": 23,
     "metadata": {},
     "output_type": "execute_result"
    }
   ],
   "source": [
    "spread"
   ]
  },
  {
   "cell_type": "code",
   "execution_count": 1,
   "metadata": {
    "collapsed": true
   },
   "outputs": [],
   "source": [
    "! cd /home/vanniagm/drop/Dropbox/DataScience/Insight/InsightProject/"
   ]
  },
  {
   "cell_type": "code",
   "execution_count": 25,
   "metadata": {
    "collapsed": true
   },
   "outputs": [],
   "source": [
    "import pandas as pd\n",
    "import numpy as np\n",
    "\n",
    "\n",
    "df=pd.read_csv('data.csv')\n",
    "\n",
    "aspectNF=(df[df['Popularity']=='NotFollowed'])['aspect_ratio']\n",
    "aspectF=df[df['Popularity']=='Followed'].loc[:,['aspect_ratio']]\n",
    "aspectP=df[df['Popularity']=='Popular'].loc[:,['aspect_ratio']]\n",
    "\n",
    "hourNF=df[df['Popularity']=='NotFollowed'].loc[:,['note_countlog','hour']]\n",
    "hourF=df[df['Popularity']=='Followed'].loc[:,['note_countlog','hour']]\n",
    "hourP=df[df['Popularity']=='Popular'].loc[:,['note_countlog','hour']]\n",
    "\n",
    "tagsNF=df[df['Popularity']=='NotFollowed'].loc[:,['note_countlog','tags']]\n",
    "tagsF=df[df['Popularity']=='Followed'].loc[:,['note_countlog','tags']]\n",
    "tagsP=df[df['Popularity']=='Popular'].loc[:,['note_countlog','tags']]\n",
    "\n",
    "\n"
   ]
  },
  {
   "cell_type": "code",
   "execution_count": 3,
   "metadata": {
    "scrolled": true
   },
   "outputs": [
    {
     "name": "stdout",
     "output_type": "stream",
     "text": [
      "Overwriting plotfeat.py\n"
     ]
    }
   ],
   "source": [
    "%%writefile plotfeat.py\n",
    "\n",
    "import matplotlib.pyplot as plt\n",
    "from matplotlib.patches import Ellipse\n",
    "import os\n",
    "\n",
    "\n",
    "def make_plot(user_result,yvalue,filename,df,coldf):\n",
    "\n",
    "    fig_size = plt.rcParams[\"figure.figsize\"]\n",
    "    fig_size[0] = 9\n",
    "    fig_size[1] = 7\n",
    "    plt.rcParams[\"figure.figsize\"] = fig_size\n",
    "    plt.subplots_adjust(left=0,right=1, top=0.8, bottom=0.1)\n",
    "    plt.rcParams.update({'font.size': 21})\n",
    "\n",
    "    userx=user_result\n",
    "    userya=yvalue\n",
    "    if userx=='NotFollowed':\n",
    "        annx=0.9\n",
    "    elif userx=='Followed':\n",
    "        annx=1.98\n",
    "    elif userx=='Popular':\n",
    "        annx=2.9\n",
    "\n",
    "\n",
    "    font = {'family': 'sans-serif',\n",
    "                'color':  'black',\n",
    "                'weight': 'normal',\n",
    "                'size': 16,\n",
    "                }\n",
    "    pink0='#a50b5e'\n",
    "\n",
    "    # multiple box plots on one figure\n",
    "    fig, ax = plt.subplots()\n",
    "\n",
    "    boxprops = dict(linewidth=2,color='white')\n",
    "    medianprops = dict(linestyle='-', linewidth=3,color='white')\n",
    "    df.boxplot(ax=ax,column=coldf, by='Popularity',boxprops=boxprops,\n",
    "                    medianprops=medianprops)\n",
    "\n",
    "    ax.set_title('')\n",
    "    ax.set_xlabel('')\n",
    "    ax.set_xticklabels(['NotFollowed','Followed','Popular'],fontdict=font)\n",
    "\n",
    "\n",
    "    el = Ellipse((2, -1), 0.5, 0.5)\n",
    "    ax.add_patch(el)\n",
    "    ann = ax.annotate('X',xy=(annx, userya),size=11, color='white',va=\"center\",ha=\"left\",\n",
    "                              bbox=dict(boxstyle=\"round\", fc=pink0, ec=\"k\"),\n",
    "                              arrowprops=dict(arrowstyle=\"wedge,tail_width=1.\",\n",
    "                                              fc=pink0, ec=\"k\",\n",
    "                                              patchA=None,\n",
    "                                              patchB=el,\n",
    "                                              relpos=(0, 0.5)))\n",
    "    #ann = ax.annotate('User',xy=(annx, usery))\n",
    "\n",
    "    fig.suptitle('')\n",
    "\n",
    "    ax.spines['bottom'].set_color('white')\n",
    "    ax.spines['top'].set_color('white')\n",
    "    ax.spines['left'].set_color('white')\n",
    "    ax.spines['right'].set_color('white')\n",
    "    ax.tick_params(axis='x', colors='white')\n",
    "    ax.tick_params(axis='y', colors='white')\n",
    "\n",
    "\n",
    "    plt.savefig(filename,transparent=True, box_inches='tight',dpi=800)\n",
    "    plt.clf()\n",
    "    \n",
    "############################\n",
    "def save_plot(user_result,yval,df,coldf,namefile):\n",
    "    \n",
    "    \n",
    "    \n",
    "    dir_path=os.getcwd()\n",
    "    filename = dir_path+namefile #/blogpred_app/static/indicator.png'\n",
    "\n",
    "    make_plot(user_result,yval,filename,df,coldf)"
   ]
  },
  {
   "cell_type": "code",
   "execution_count": 5,
   "metadata": {
    "collapsed": true
   },
   "outputs": [],
   "source": [
    "import plotfeat\n",
    "import pandas as pd\n",
    "\n",
    "df=pd.read_csv('data.csv')\n",
    "plotfeat.save_plot('Popular',.9,df,'aspect_ratio','/aspect.png')"
   ]
  },
  {
   "cell_type": "code",
   "execution_count": 2,
   "metadata": {},
   "outputs": [
    {
     "data": {
      "text/plain": [
       "'/home/vanniagm/drop/Dropbox/DataScience/Insight/InsightProject'"
      ]
     },
     "execution_count": 2,
     "metadata": {},
     "output_type": "execute_result"
    }
   ],
   "source": [
    "import os \n",
    "\n",
    "os.getcwd()"
   ]
  },
  {
   "cell_type": "code",
   "execution_count": 2,
   "metadata": {},
   "outputs": [
    {
     "name": "stdout",
     "output_type": "stream",
     "text": [
      "Overwriting plotfeat_hour.py\n"
     ]
    }
   ],
   "source": [
    "%%writefile plotfeat_hour.py\n",
    "\n",
    "import pandas as pd\n",
    "import numpy as np\n",
    "import matplotlib.pyplot as plt\n",
    "from matplotlib.patches import Ellipse\n",
    "import os\n",
    "\n",
    "\n",
    "def make_plot(userx,usery,filename,df):\n",
    "\n",
    "    df=df.sample(frac=0.01, replace=False)\n",
    "\n",
    "    fig_size = plt.rcParams[\"figure.figsize\"]\n",
    "    fig_size[0] = 9\n",
    "    fig_size[1] = 7\n",
    "    plt.rcParams[\"figure.figsize\"] = fig_size\n",
    "    plt.subplots_adjust(left=0,right=1, top=0.8, bottom=0.1)\n",
    "    plt.rcParams.update({'font.size': 21})\n",
    "\n",
    "    font = {'family': 'sans-serif',\n",
    "                    'color':  'black',\n",
    "                    'weight': 'normal',\n",
    "                    'size': 16,\n",
    "                    }\n",
    "    pink0='#a50b5e'\n",
    "\n",
    "    x=df['hour'].reset_index(drop=True)\n",
    "    y=df['note_countlog'].reset_index(drop=True)\n",
    "\n",
    "    fig, ax = plt.subplots()\n",
    "    ax.bar(x, y,  color=pink0)\n",
    "\n",
    "    #plt.bar(x,y,color=pink0)\n",
    "    #ax = plt.gca()\n",
    "    ax.set_title('')\n",
    "    ax.set_xlabel('Hour of the day',color='white')\n",
    "    ax.set_ylabel('Note count (log10)',color='white')\n",
    "    plt.yticks(np.arange(0, 3, .5))\n",
    "\n",
    "    el = Ellipse((2, -1), 0.5, 0.5)\n",
    "    ax.add_patch(el)\n",
    "    ann = ax.annotate('X',xy=(userx, usery),size=14, color='black',va=\"center\",ha=\"left\",\n",
    "                                  bbox=dict(boxstyle=\"round\", fc='white', ec=\"k\"),\n",
    "                                  arrowprops=dict(arrowstyle=\"wedge,tail_width=1.\",\n",
    "                                                  fc='white', ec=\"k\",\n",
    "                                                  patchA=None,\n",
    "                                                  patchB=el,\n",
    "                                                  relpos=(0, 0.5)))\n",
    "\n",
    "    ax.spines['bottom'].set_color('white')\n",
    "    ax.spines['top'].set_color('white')\n",
    "    ax.spines['left'].set_color('white')\n",
    "    ax.spines['right'].set_color('white')\n",
    "    ax.tick_params(axis='x', colors='white')\n",
    "    ax.tick_params(axis='y', colors='white')\n",
    "\n",
    "\n",
    "\n",
    "    plt.savefig(filename,transparent=True, box_inches='tight',dpi=800)\n",
    "    plt.clf()\n",
    "    \n",
    "############################\n",
    "def save_plot(user_result,yval,df,namefile):\n",
    "    \n",
    "    \n",
    "    \n",
    "    dir_path=os.getcwd()\n",
    "    filename = dir_path+namefile #/blogpred_app/static/indicator.png'\n",
    "\n",
    "    make_plot(user_result,yval,filename,df)"
   ]
  },
  {
   "cell_type": "code",
   "execution_count": 1,
   "metadata": {
    "collapsed": true
   },
   "outputs": [],
   "source": [
    "import plotfeat_hour\n",
    "import pandas as pd\n",
    "import numpy as np\n",
    "\n",
    "df=pd.read_csv('data.csv')\n",
    "plotfeat_hour.save_plot(16,1.43,df,'/hour.png')"
   ]
  },
  {
   "cell_type": "code",
   "execution_count": 29,
   "metadata": {},
   "outputs": [
    {
     "data": {
      "text/plain": [
       "<matplotlib.figure.Figure at 0x7f0044f82c90>"
      ]
     },
     "metadata": {},
     "output_type": "display_data"
    },
    {
     "data": {
      "image/png": "[encoded data removed]",
      "text/plain": [
       "<matplotlib.figure.Figure at 0x7f0044a764d0>"
      ]
     },
     "metadata": {},
     "output_type": "display_data"
    }
   ],
   "source": [
    "import matplotlib.pyplot as plt\n",
    "from matplotlib.patches import Ellipse\n",
    "import numpy as np\n",
    "\n",
    "df=pd.read_csv('data.csv')\n",
    "df=df.sample(frac=0.01, replace=False)\n",
    "\n",
    "userx=16\n",
    "usery=1.43\n",
    "\n",
    "fig_size = plt.rcParams[\"figure.figsize\"]\n",
    "fig_size[0] = 9\n",
    "fig_size[1] = 7\n",
    "plt.rcParams[\"figure.figsize\"] = fig_size\n",
    "plt.subplots_adjust(left=0,right=1, top=0.8, bottom=0.1)\n",
    "plt.rcParams.update({'font.size': 21})\n",
    "\n",
    "font = {'family': 'sans-serif',\n",
    "                'color':  'black',\n",
    "                'weight': 'normal',\n",
    "                'size': 16,\n",
    "                }\n",
    "pink0='#a50b5e'\n",
    "\n",
    "x=df['hour'].reset_index(drop=True)\n",
    "y=df['note_countlog'].reset_index(drop=True)\n",
    "\n",
    "fig, ax = plt.subplots()\n",
    "ax.bar(x, y,  color=pink0)\n",
    "\n",
    "#plt.bar(x,y,color=pink0)\n",
    "#ax = plt.gca()\n",
    "ax.set_title('')\n",
    "ax.set_xlabel('Hour of the day',color='white')\n",
    "ax.set_ylabel('Note count (log10)',color='white')\n",
    "plt.yticks(np.arange(0, 3, .5))\n",
    "\n",
    "el = Ellipse((2, -1), 0.5, 0.5)\n",
    "ax.add_patch(el)\n",
    "ann = ax.annotate('X',xy=(userx, usery),size=14, color='white',va=\"center\",ha=\"left\",\n",
    "                              bbox=dict(boxstyle=\"round\", fc=pink0, ec=\"k\"),\n",
    "                              arrowprops=dict(arrowstyle=\"wedge,tail_width=1.\",\n",
    "                                              fc=pink0, ec=\"k\",\n",
    "                                              patchA=None,\n",
    "                                              patchB=el,\n",
    "                                              relpos=(0, 0.5)))\n",
    "\n",
    "ax.spines['bottom'].set_color('white')\n",
    "ax.spines['top'].set_color('white')\n",
    "ax.spines['left'].set_color('white')\n",
    "ax.spines['right'].set_color('white')\n",
    "ax.tick_params(axis='x', colors='white')\n",
    "ax.tick_params(axis='y', colors='white')\n",
    "\n",
    "\n",
    "\n",
    "plt.savefig('ex.png',transparent=True, box_inches='tight',dpi=800)\n",
    "plt.show()"
   ]
  },
  {
   "cell_type": "code",
   "execution_count": 2,
   "metadata": {},
   "outputs": [
    {
     "data": {
      "text/plain": [
       "1.380211241711606"
      ]
     },
     "execution_count": 2,
     "metadata": {},
     "output_type": "execute_result"
    }
   ],
   "source": [
    "import math\n",
    "\n",
    "math.log10(24)"
   ]
  },
  {
   "cell_type": "code",
   "execution_count": 12,
   "metadata": {
    "scrolled": true
   },
   "outputs": [
    {
     "name": "stdout",
     "output_type": "stream",
     "text": [
      "Overwriting plotfeat_wcount.py\n"
     ]
    }
   ],
   "source": [
    "%%writefile plotfeat_wcount.py\n",
    "\n",
    "import pandas as pd\n",
    "import numpy as np\n",
    "import matplotlib.pyplot as plt\n",
    "from matplotlib.patches import Ellipse\n",
    "import os\n",
    "\n",
    "\n",
    "def make_plot(userx,usery,filename,df):\n",
    "\n",
    "    df=df.sample(frac=0.01, replace=False)\n",
    "\n",
    "    fig_size = plt.rcParams[\"figure.figsize\"]\n",
    "    fig_size[0] = 9\n",
    "    fig_size[1] = 7\n",
    "    plt.rcParams[\"figure.figsize\"] = fig_size\n",
    "    plt.subplots_adjust(left=0,right=1, top=0.8, bottom=0.1)\n",
    "    plt.rcParams.update({'font.size': 21})\n",
    "\n",
    "    font = {'family': 'sans-serif',\n",
    "                    'color':  'black',\n",
    "                    'weight': 'normal',\n",
    "                    'size': 16,\n",
    "                    }\n",
    "    pink0='#a50b5e'\n",
    "\n",
    "    x=df['wcount'].reset_index(drop=True)\n",
    "    y=df['note_countlog'].reset_index(drop=True)\n",
    "\n",
    "    fig, ax = plt.subplots()\n",
    "    ax.scatter(x, y,  color=pink0)\n",
    "\n",
    "    #plt.bar(x,y,color=pink0)\n",
    "    #ax = plt.gca()\n",
    "    ax.set_title('')\n",
    "    ax.set_xlabel('Word counts',color='white')\n",
    "    ax.set_ylabel('Note count (log10)',color='white')\n",
    "\n",
    "\n",
    "    el = Ellipse((2, -1), 0.5, 0.5)\n",
    "    ax.add_patch(el)\n",
    "    ann = ax.annotate('X',xy=(userx, usery),size=14, color='white',va=\"center\",ha=\"left\",\n",
    "                                  bbox=dict(boxstyle=\"round\", fc=pink0, ec=\"k\"),\n",
    "                                  arrowprops=dict(arrowstyle=\"wedge,tail_width=1.\",\n",
    "                                                  fc=pink0, ec=\"k\",\n",
    "                                                  patchA=None,\n",
    "                                                  patchB=el,\n",
    "                                                  relpos=(0, 0.5)))\n",
    "\n",
    "    ax.spines['bottom'].set_color('white')\n",
    "    ax.spines['top'].set_color('white')\n",
    "    ax.spines['left'].set_color('white')\n",
    "    ax.spines['right'].set_color('white')\n",
    "    ax.tick_params(axis='x', colors='white')\n",
    "    ax.tick_params(axis='y', colors='white')\n",
    "\n",
    "\n",
    "\n",
    "    plt.savefig(filename,transparent=True, box_inches='tight',dpi=800)\n",
    "    plt.clt()\n",
    "\n",
    "    \n",
    "###################3\n",
    "\n",
    "def save_plot(user_result,yval,df,namefile):\n",
    "    \n",
    "    \n",
    "    \n",
    "    dir_path=os.getcwd()\n",
    "    filename = dir_path+namefile #/blogpred_app/static/indicator.png'\n",
    "\n",
    "    make_plot(user_result,yval,filename,df)\n",
    "\n"
   ]
  },
  {
   "cell_type": "code",
   "execution_count": 2,
   "metadata": {},
   "outputs": [],
   "source": [
    "import plotfeat_wcount\n",
    "import pandas as pd\n",
    "import numpy as np\n",
    "\n",
    "df=pd.read_csv('data.csv')\n",
    "plotfeat_wcount.save_plot(8,1.38,df,'/wcount.png')"
   ]
  },
  {
   "cell_type": "code",
   "execution_count": null,
   "metadata": {
    "collapsed": true
   },
   "outputs": [],
   "source": []
  }
 ],
 "metadata": {
  "kernelspec": {
   "display_name": "Python 2",
   "language": "python",
   "name": "python2"
  },
  "language_info": {
   "codemirror_mode": {
    "name": "ipython",
    "version": 2
   },
   "file_extension": ".py",
   "mimetype": "text/x-python",
   "name": "python",
   "nbconvert_exporter": "python",
   "pygments_lexer": "ipython2",
   "version": "2.7.13"
  }
 },
 "nbformat": 4,
 "nbformat_minor": 2
}
